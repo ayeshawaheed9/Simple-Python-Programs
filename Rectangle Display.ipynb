{
 "cells": [
  {
   "cell_type": "code",
   "execution_count": 6,
   "id": "ee3d223c",
   "metadata": {
    "scrolled": true
   },
   "outputs": [
    {
     "name": "stdout",
     "output_type": "stream",
     "text": [
      "Enter the first number between 2 and 10 :2\n",
      "Enter the second number between 2 and 10 :5\n",
      "# # # # # \n",
      "# # # # # \n"
     ]
    }
   ],
   "source": [
    "x=1\n",
    "y=1\n",
    "while(x<2 or x>10):\n",
    "    x=int(input(\"Enter the first number between 2 and 10 :\"))\n",
    "    if(x<2 or x>10):\n",
    "        print(\"Enter valid input\")\n",
    "while(y<2 or y>10):\n",
    "    y=int(input(\"Enter the second number between 2 and 10 :\"))\n",
    "    if(y<2 or y>10):\n",
    "        print(\"Enter valid input\")\n",
    "if(x<y):\n",
    "    width=x\n",
    "    length=y\n",
    "else:\n",
    "    width=y\n",
    "    length=x\n",
    "for i in range(0,width):\n",
    "    for j in range(0,length):\n",
    "        print('#', end=' ')\n",
    "    print('')"
   ]
  },
  {
   "cell_type": "code",
   "execution_count": null,
   "id": "58681a50",
   "metadata": {},
   "outputs": [],
   "source": []
  }
 ],
 "metadata": {
  "kernelspec": {
   "display_name": "Python 3 (ipykernel)",
   "language": "python",
   "name": "python3"
  },
  "language_info": {
   "codemirror_mode": {
    "name": "ipython",
    "version": 3
   },
   "file_extension": ".py",
   "mimetype": "text/x-python",
   "name": "python",
   "nbconvert_exporter": "python",
   "pygments_lexer": "ipython3",
   "version": "3.9.7"
  }
 },
 "nbformat": 4,
 "nbformat_minor": 5
}

{
 "cells": [
  {
   "cell_type": "code",
   "execution_count": 31,
   "id": "13780429",
   "metadata": {},
   "outputs": [
    {
     "name": "stdout",
     "output_type": "stream",
     "text": [
      "      + \n",
      "      +++ \n",
      "      +++++ \n",
      "+++++++++++++ \n",
      "      +++++ \n",
      "      +++ \n",
      "      + \n"
     ]
    }
   ],
   "source": [
    "c=1\n",
    "for x in range (0,7):\n",
    "    if(x==3):\n",
    "        for y in range (0,13):\n",
    "            print('+',end='')\n",
    "    if(x==0 or x==6):\n",
    "        for i in range (0,6):\n",
    "            print(\" \",end='')\n",
    "        print('+',end='')\n",
    "    if(x==1or x==5):\n",
    "        for i in range (0,6):\n",
    "            print(\" \",end='')\n",
    "        print('+++',end='')\n",
    "    if(x==2or x==4):\n",
    "        for i in range (0,6):\n",
    "            print(\" \",end='')\n",
    "        print('+++++',end='')    \n",
    "    print(\" \")\n"
   ]
  },
  {
   "cell_type": "code",
   "execution_count": null,
   "id": "d5afe368",
   "metadata": {},
   "outputs": [],
   "source": []
  }
 ],
 "metadata": {
  "kernelspec": {
   "display_name": "Python 3 (ipykernel)",
   "language": "python",
   "name": "python3"
  },
  "language_info": {
   "codemirror_mode": {
    "name": "ipython",
    "version": 3
   },
   "file_extension": ".py",
   "mimetype": "text/x-python",
   "name": "python",
   "nbconvert_exporter": "python",
   "pygments_lexer": "ipython3",
   "version": "3.9.7"
  }
 },
 "nbformat": 4,
 "nbformat_minor": 5
}

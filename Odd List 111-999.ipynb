{
 "cells": [
  {
   "cell_type": "code",
   "execution_count": null,
   "id": "8f3bc915",
   "metadata": {},
   "outputs": [],
   "source": [
    "x=111\n",
    "y=x\n",
    "ct=0\n",
    "while(y<=999):\n",
    "    while(x>10):\n",
    "        if((x%10)%2==0):\n",
    "            ct=ct+1\n",
    "        x=x//10\n",
    "    if(ct==0):\n",
    "        print(y)\n",
    "    ct=0\n",
    "    x=y\n",
    "    x=x+1\n",
    "    y=x"
   ]
  },
  {
   "cell_type": "code",
   "execution_count": null,
   "id": "ec794ec0",
   "metadata": {},
   "outputs": [],
   "source": []
  }
 ],
 "metadata": {
  "kernelspec": {
   "display_name": "Python 3 (ipykernel)",
   "language": "python",
   "name": "python3"
  },
  "language_info": {
   "codemirror_mode": {
    "name": "ipython",
    "version": 3
   },
   "file_extension": ".py",
   "mimetype": "text/x-python",
   "name": "python",
   "nbconvert_exporter": "python",
   "pygments_lexer": "ipython3",
   "version": "3.9.7"
  }
 },
 "nbformat": 4,
 "nbformat_minor": 5
}

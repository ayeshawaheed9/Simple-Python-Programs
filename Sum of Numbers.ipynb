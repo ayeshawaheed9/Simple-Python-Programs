{
 "cells": [
  {
   "cell_type": "code",
   "execution_count": 29,
   "id": "8c8a2bed",
   "metadata": {},
   "outputs": [
    {
     "name": "stdout",
     "output_type": "stream",
     "text": [
      "Enter the number : 1\n",
      "Invalid Number\n",
      "Enter the number : 34\n",
      "Sum is :  595\n"
     ]
    }
   ],
   "source": [
    "x=1\n",
    "while(x==1):\n",
    "    x=int(input(\"Enter the number : \"))\n",
    "    if (x==1):\n",
    "        print(\"Invalid Number\")\n",
    "    \n",
    "sum=0\n",
    "y=1\n",
    "for y in range (0,x+1):\n",
    "            sum =sum+y\n",
    "print(\"Sum is : \",sum)"
   ]
  },
  {
   "cell_type": "markdown",
   "id": "a8817099",
   "metadata": {},
   "source": []
  }
 ],
 "metadata": {
  "kernelspec": {
   "display_name": "Python 3 (ipykernel)",
   "language": "python",
   "name": "python3"
  },
  "language_info": {
   "codemirror_mode": {
    "name": "ipython",
    "version": 3
   },
   "file_extension": ".py",
   "mimetype": "text/x-python",
   "name": "python",
   "nbconvert_exporter": "python",
   "pygments_lexer": "ipython3",
   "version": "3.9.7"
  }
 },
 "nbformat": 4,
 "nbformat_minor": 5
}

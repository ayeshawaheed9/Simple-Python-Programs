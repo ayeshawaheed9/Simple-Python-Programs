{
 "cells": [
  {
   "cell_type": "code",
   "execution_count": 9,
   "id": "466d2585",
   "metadata": {},
   "outputs": [
    {
     "name": "stdout",
     "output_type": "stream",
     "text": [
      "Enter the speed of vehicle in miles per hour : 40\n",
      "Enter the hours travelled : 3\n",
      "1 \t 40\n",
      "2 \t 80\n",
      "3 \t 120\n"
     ]
    }
   ],
   "source": [
    "speed =0\n",
    "while (speed <1):\n",
    "    speed=int(input(\"Enter the speed of vehicle in miles per hour : \"))\n",
    "    if(speed<1):\n",
    "        print (\"Enter correct value : \")\n",
    "\n",
    "hours=0\n",
    "while (hours <1):\n",
    "    hours=int (input(\"Enter the hours travelled : \"))\n",
    "    if(hours<1):\n",
    "        print(\"Enter correct value : \")\n",
    "        \n",
    "for x in range (1,hours+1):\n",
    "    print (x,\"\\t\",speed*x)"
   ]
  },
  {
   "cell_type": "code",
   "execution_count": null,
   "id": "c9e416fb",
   "metadata": {},
   "outputs": [],
   "source": []
  },
  {
   "cell_type": "code",
   "execution_count": null,
   "id": "60df7a33",
   "metadata": {},
   "outputs": [],
   "source": []
  }
 ],
 "metadata": {
  "kernelspec": {
   "display_name": "Python 3 (ipykernel)",
   "language": "python",
   "name": "python3"
  },
  "language_info": {
   "codemirror_mode": {
    "name": "ipython",
    "version": 3
   },
   "file_extension": ".py",
   "mimetype": "text/x-python",
   "name": "python",
   "nbconvert_exporter": "python",
   "pygments_lexer": "ipython3",
   "version": "3.9.7"
  }
 },
 "nbformat": 4,
 "nbformat_minor": 5
}
